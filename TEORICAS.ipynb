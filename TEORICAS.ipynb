{
 "cells": [
  {
   "cell_type": "markdown",
   "id": "61b7f552",
   "metadata": {},
   "source": [
    "# NOMBRE COMPLETO: DANIEL FELIPE QUINTERO JIMENEZ"
   ]
  },
  {
   "cell_type": "markdown",
   "id": "9c2b3b72",
   "metadata": {},
   "source": [
    "# Preguntas Teóricas\n",
    "## 1. ¿Cuáles son las diferencias fundamentales entre los modelos encoder-only, decoder-only y encoder-decoder en el contexto de los chatbots conversacionales? Explique qué tipo de modelo sería más adecuado para cada caso de uso y por qué."
   ]
  },
  {
   "cell_type": "markdown",
   "id": "c2a93284",
   "metadata": {},
   "source": [
    "| Tipo de Modelo     | Características Principales                                                                 | Casos de Uso en Chatbots                                      | Ejemplos de Modelos     |\n",
    "|--------------------|---------------------------------------------------------------------------------------------|---------------------------------------------------------------|--------------------------|\n",
    "| **Encoder-only**   | Solo codifica texto de entrada. Bidireccional. No genera texto.                            | Clasificación de intenciones, análisis de sentimientos        | BERT, RoBERTa            |\n",
    "| **Decoder-only**   | Genera texto palabra por palabra. Autoregresivo. Unidireccional.                            | Generación de respuestas, completado de texto                 | GPT, GPT-2, GPT-3        |\n",
    "| **Encoder-Decoder**| Codifica la entrada y luego genera una salida basada en esa codificación.                  | Traducción, resumen, generación controlada de respuestas      | T5, BART, mT5            |\n",
    "\n",
    "### ¿Qué tipo de modelo sería más adecuado para cada caso de uso y por qué?\n",
    "\n",
    "- **Encoder-only**: Útil para comprender lo que dice el usuario, como en la clasificación de intenciones o detección de entidades. No sirve para generar respuestas por sí solo.\n",
    "- **Decoder-only**: Ideal para generar texto fluido y coherente, como respuestas en un chatbot. Usado cuando la prioridad es la generación del lenguaje.\n",
    "- **Encoder-Decoder**: Útil cuando se necesita transformar texto de una forma a otra, como en chatbots que resumen información, traducen, o responden con base en entradas complejas.\n",
    "\n",
    "---"
   ]
  },
  {
   "cell_type": "markdown",
   "id": "9f6bab77",
   "metadata": {},
   "source": [
    "## 2. Explique el concepto de \"temperatura\" en la generación de texto con LLMs. ¿Cómo afecta al comportamiento del chatbot y qué consideraciones debemos tener al ajustar este parámetro para diferentes aplicaciones?"
   ]
  },
  {
   "cell_type": "markdown",
   "id": "eea589cc",
   "metadata": {},
   "source": [
    "## ¿Qué es la Temperatura en la Generación de Texto con LLMs?\n",
    "\n",
    "La **temperatura** es un hiperparámetro que se utiliza durante la generación de texto con modelos de lenguaje como GPT para controlar la **aleatoriedad** de las predicciones.\n",
    "\n",
    "### ¿Cómo Funciona?\n",
    "\n",
    "Durante la generación, el modelo calcula una distribución de probabilidad sobre el siguiente token (palabra o subpalabra). La temperatura modifica esta distribución:\n",
    "\n",
    "- Se aplica una fórmula como esta:  \n",
    "P_i = exp(log(P_i) / T) / sum_j(exp(log(P_j) / T))\n",
    "\n",
    "Donde `T` es la temperatura.\n",
    "\n",
    "### Efecto de la Temperatura\n",
    "\n",
    "- **Temperatura = 1.0** (valor por defecto):  \n",
    "Comportamiento **estándar** del modelo.\n",
    "\n",
    "- **Temperatura < 1.0** (por ejemplo, 0.2 a 0.7):  \n",
    "La distribución se **agudiza** → el modelo es **más conservador y repetitivo**.  \n",
    "Útil cuando se necesita **respuestas precisas, coherentes y controladas**.\n",
    "\n",
    "- **Temperatura > 1.0** (por ejemplo, 1.2 o más):  \n",
    "La distribución se **aplana** → el modelo es **más creativo, impredecible y variado**, pero puede volverse incoherente.  \n",
    "Útil para tareas como escritura creativa o brainstorming.\n",
    "\n",
    "### Ejemplos de Aplicación\n",
    "\n",
    "| Aplicación                     | Temperatura Recomendada | Justificación                                               |\n",
    "|-------------------------------|--------------------------|-------------------------------------------------------------|\n",
    "| Chatbot para atención médica  | 0.3 - 0.5                | Respuestas seguras, formales, coherentes                    |\n",
    "| Asistente educativo            | 0.5 - 0.7                | Cierta flexibilidad, pero con precisión en las explicaciones|\n",
    "| Generador de historias        | 1.0 - 1.3                | Mayor creatividad y diversidad de narrativas                |\n",
    "| Chat informal o roleplay      | 0.8 - 1.2                | Conversaciones variadas, espontáneas y menos rígidas        |\n",
    "\n",
    "### Consideraciones al Ajustar la Temperatura\n",
    "\n",
    "- No existe un valor único ideal: **depende del contexto de uso**.\n",
    "- Temperaturas muy altas pueden generar incoherencias o errores.\n",
    "- Se puede combinar con otros parámetros como `top_k` o `top_p` para refinar aún más el control del texto generado.\n",
    "\n",
    "---\n",
    "\n",
    "**Conclusión:**  \n",
    "La temperatura es clave para modular el comportamiento del chatbot. Ajustarla correctamente puede marcar la diferencia entre una respuesta aburrida y repetitiva o una conversación natural y efectiva.\n",
    "\n",
    "\n"
   ]
  },
  {
   "cell_type": "markdown",
   "id": "14481232",
   "metadata": {},
   "source": [
    "## 3. Describa las técnicas principales para reducir el problema de \"alucinaciones\" en chatbots basados en LLMs. ¿Qué estrategias podemos implementar a nivel de inferencia y a nivel de prompt engineering para mejorar la precisión factual de las respuestas?"
   ]
  },
  {
   "cell_type": "markdown",
   "id": "704466d4",
   "metadata": {},
   "source": [
    "## Reducción de Alucinaciones en Chatbots Basados en LLMs\n",
    "\n",
    "Las **alucinaciones** son respuestas generadas por modelos de lenguaje que parecen correctas pero que son **fácticamente incorrectas o inventadas**. Este es uno de los desafíos principales en el uso de LLMs en aplicaciones críticas como educación, medicina o derecho.\n",
    "\n",
    "---\n",
    "\n",
    "### Técnicas para Reducir Alucinaciones\n",
    "\n",
    "#### 🧠 A. A Nivel de Inferencia\n",
    "\n",
    "1. **Temperatura baja**\n",
    "   - Usar valores de temperatura entre `0.2` y `0.5` reduce la creatividad del modelo, promoviendo respuestas más seguras y precisas.\n",
    "\n",
    "2. **Restricción de tokens (top-k / top-p sampling)**\n",
    "   - Limitar la selección de tokens a los más probables (`top_k`) o acumulando una probabilidad límite (`top_p`) ayuda a evitar resultados improbables o aleatorios.\n",
    "\n",
    "3. **Consulta iterativa y verificación**\n",
    "   - Generar respuestas en múltiples pasos o pedir al modelo que **verifique su respuesta** antes de responder definitivamente.\n",
    "\n",
    "4. **Recuperación basada en documentos (RAG)**\n",
    "   - Combinar el LLM con un sistema de recuperación de documentos externos (como una base de datos o motor de búsqueda) para responder con información verificada.\n",
    "\n",
    "---\n",
    "\n",
    "#### ✍️ B. A Nivel de Prompt Engineering\n",
    "\n",
    "1. **Instrucciones claras y específicas**\n",
    "   - Instrucciones como _“Responde solo si estás seguro”_ o _“Si no sabes la respuesta, responde ‘No lo sé’”_ pueden reducir invenciones.\n",
    "\n",
    "2. **Few-shot prompting con ejemplos reales**\n",
    "   - Incluir ejemplos correctos y bien estructurados en el prompt para establecer un patrón deseado.\n",
    "\n",
    "3. **Uso de cadenas de pensamiento (\"chain-of-thought\")**\n",
    "   - Pedir al modelo que **razone paso a paso** puede mejorar la precisión lógica y reducir errores fácticos.\n",
    "\n",
    "4. **Reforzar con roles o contexto de confiabilidad**\n",
    "   - Frases como _“Eres un experto en medicina. Responde con hechos basados en evidencia científica”_ pueden guiar al modelo hacia mayor rigor.\n",
    "\n",
    "5. **Incorporación de fuentes o referencias**\n",
    "   - Pedir al modelo que cite una fuente o diga de dónde proviene la información:  \n",
    "     _“Incluye la fuente de cada dato que menciones”_.\n",
    "\n",
    "---\n",
    "\n",
    "### Ejemplo de Prompt Mejorado\n",
    "\n",
    "```plaintext\n",
    "Eres un asistente legal que solo responde con información verificada. Si no tienes certeza, responde: \"No tengo suficiente información para responder con precisión\".\n",
    "\n",
    "Pregunta: ¿Cuál es la edad mínima para votar en Argentina?\n",
    "\n",
    "Conclusión\n",
    "Reducir las alucinaciones en LLMs requiere una combinación de ajustes técnicos e ingeniería de prompts. No existe una solución única, pero aplicar varias de estas estrategias en conjunto puede mejorar considerablemente la precisión factual del chatbot.\n",
    "\n",
    "\n"
   ]
  }
 ],
 "metadata": {
  "kernelspec": {
   "display_name": "Python 3",
   "language": "python",
   "name": "python3"
  },
  "language_info": {
   "codemirror_mode": {
    "name": "ipython",
    "version": 3
   },
   "file_extension": ".py",
   "mimetype": "text/x-python",
   "name": "python",
   "nbconvert_exporter": "python",
   "pygments_lexer": "ipython3",
   "version": "3.12.10"
  }
 },
 "nbformat": 4,
 "nbformat_minor": 5
}
